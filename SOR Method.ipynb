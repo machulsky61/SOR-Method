{
  "cells": [
    {
      "cell_type": "markdown",
      "metadata": {
        "id": "o3AEra4lz1LL"
      },
      "source": [
        "#  Integrantes:\n",
        "* Joaquin Machulsky, LU: 521/21\n",
        "* Agustin Hernandez, LU: 37/20"
      ]
    },
    {
      "cell_type": "code",
      "execution_count": null,
      "metadata": {
        "id": "SjPme8qH2J4D"
      },
      "outputs": [],
      "source": [
        "import numpy as np\n",
        "import matplotlib.pyplot as plt"
      ]
    },
    {
      "cell_type": "markdown",
      "metadata": {
        "id": "2PKUPk4-4O0B"
      },
      "source": [
        "# Ej 1"
      ]
    },
    {
      "cell_type": "code",
      "execution_count": null,
      "metadata": {
        "id": "Tl7iqtNx2N7s"
      },
      "outputs": [],
      "source": [
        "def jacobiMat(A, b, x0, s):\n",
        "  \n",
        "    n = np.shape(A)[0]\n",
        "\n",
        "    x = np.copy(x0)\n",
        "    M = np.diag(np.diag(A))\n",
        "    N = A - M\n",
        "\n",
        "    er = np.linalg.norm(A@x-b)/np.linalg.norm(b)#error\n",
        "    k = 0\n",
        "    while k < s and er>10**(-8):\n",
        "\n",
        "        x = -(np.linalg.inv(M) @ N) @ x + np.linalg.inv(M) @ b\n",
        "        er = np.linalg.norm(A@x-b)/np.linalg.norm(b)\n",
        "        k += 1\n",
        "\n",
        "    return(x, k)"
      ]
    },
    {
      "cell_type": "markdown",
      "metadata": {
        "id": "EKqNXA3N7fXS"
      },
      "source": [
        "# Ej 2"
      ]
    },
    {
      "cell_type": "code",
      "execution_count": null,
      "metadata": {
        "colab": {
          "base_uri": "https://localhost:8080/"
        },
        "id": "gvn1Gijm3Qr8",
        "outputId": "607e9064-054d-4bce-a62c-11cda01f9a8e"
      },
      "outputs": [
        {
          "name": "stdout",
          "output_type": "stream",
          "text": [
            "(array([ 2.00000001,  1.        , -0.99999999]), 36)\n"
          ]
        }
      ],
      "source": [
        "A = np.array([[4,2,1],[1,4,1],[2,1,5]])\n",
        "b = np.array([9,5,0])\n",
        "x0 = np.array([1,1,1])\n",
        "\n",
        "print(jacobiMat(A,b,x0,50))"
      ]
    },
    {
      "cell_type": "markdown",
      "metadata": {
        "id": "nFccilZ3jDKt"
      },
      "source": [
        "Alcanza la convergencia en 36 pasos."
      ]
    },
    {
      "cell_type": "markdown",
      "metadata": {
        "id": "DlHD_P4eENGJ"
      },
      "source": [
        "# Ej 3"
      ]
    },
    {
      "cell_type": "code",
      "execution_count": null,
      "metadata": {
        "id": "XupB0n-w7Y68"
      },
      "outputs": [],
      "source": [
        "def metodoSOR(A, b, x0, w, s,):\n",
        "  \n",
        "    n = np.shape(A)[0]\n",
        "\n",
        "    x = np.copy(x0)\n",
        "    M = np.diag(np.diag(A)) + w * np.tril(A,-1)\n",
        "    N = A*w- M\n",
        "\n",
        "    error = np.linalg.norm(A@x-b)/np.linalg.norm(b)\n",
        "    k = 0\n",
        "\n",
        "    while k < s and (error>10**(-8)):\n",
        "\n",
        "        x = (-np.linalg.inv(M) @ N) @ x + np.linalg.inv(M) @ (w*b) \n",
        "        error = np.linalg.norm(A@x-b)/np.linalg.norm(b)\n",
        "        k += 1\n",
        "\n",
        "    return(x, k)"
      ]
    },
    {
      "cell_type": "markdown",
      "metadata": {
        "id": "BaIgJ63WET7Q"
      },
      "source": [
        "# Ej 4"
      ]
    },
    {
      "cell_type": "code",
      "execution_count": null,
      "metadata": {
        "colab": {
          "base_uri": "https://localhost:8080/"
        },
        "id": "UmXHnulB94G1",
        "outputId": "a90b85cc-cbf0-4058-ba86-7f2e791e8607"
      },
      "outputs": [
        {
          "name": "stdout",
          "output_type": "stream",
          "text": [
            "Para w = 1:  (array([ 1.99999998,  1.        , -0.99999999]), 13)\n",
            "Para w = 1.5:  (array([ 1.99999998,  0.99999999, -1.        ]), 43)\n",
            "Para w = 2.5:  (array([-2.01349162e+11,  1.21088400e+11,  2.93734627e+11]), 50)\n"
          ]
        }
      ],
      "source": [
        "print('Para w = 1: ',metodoSOR(A,b,x0,1,50))\n",
        "print('Para w = 1.5: ',metodoSOR(A,b,x0,1.5,50))\n",
        "print('Para w = 2.5: ',metodoSOR(A,b,x0,2.5,50))"
      ]
    },
    {
      "cell_type": "markdown",
      "metadata": {
        "id": "5n6x5RtQm6ws"
      },
      "source": [
        "Para $w = 1$ y $w = 1.5$ alcanza la convergencia en 13 y 43 pasos respectivamente."
      ]
    },
    {
      "cell_type": "markdown",
      "metadata": {
        "id": "L9Zb9TlUEHBm"
      },
      "source": [
        "# Ej 5"
      ]
    },
    {
      "cell_type": "code",
      "execution_count": null,
      "metadata": {
        "colab": {
          "base_uri": "https://localhost:8080/"
        },
        "id": "4WVY_90q_KEX",
        "outputId": "68038796-cb0b-44d1-b400-554960d33790"
      },
      "outputs": [
        {
          "name": "stdout",
          "output_type": "stream",
          "text": [
            "(array([ 0.10642382,  0.06355302, -0.00343816,  0.06759728,  0.17722179]), 60)\n"
          ]
        }
      ],
      "source": [
        "A = np.random.rand(5,5)\n",
        "\n",
        "for i in range(4):\n",
        "  A[i][i]=4\n",
        "\n",
        "x0 = np.random.rand(5)\n",
        "b = np.random.rand(5)\n",
        "\n",
        "print(jacobiMat(A, b, x0, 100))"
      ]
    },
    {
      "cell_type": "markdown",
      "metadata": {
        "id": "yD3rtGm8oDHo"
      },
      "source": [
        "Como podemos observar, converge en 100 iteraciones o menos."
      ]
    },
    {
      "cell_type": "markdown",
      "metadata": {
        "id": "uLRDC8hGHwqM"
      },
      "source": [
        "# Ej 6"
      ]
    },
    {
      "cell_type": "code",
      "execution_count": null,
      "metadata": {
        "id": "TVAw0X7CExV7"
      },
      "outputs": [],
      "source": [
        "w_s = np.linspace(0,2,1001)\n",
        "pasos = np.zeros(len(w_s))\n",
        "\n",
        "for i in range(len(w_s)):\n",
        "  pasos[i] = metodoSOR(A,b,x0,w_s[i],100)[1]"
      ]
    },
    {
      "cell_type": "code",
      "execution_count": null,
      "metadata": {
        "colab": {
          "base_uri": "https://localhost:8080/",
          "height": 498
        },
        "id": "3NjWOfYTsQOz",
        "outputId": "ef8481f5-5061-4f08-bdd0-e5c762608a42"
      },
      "outputs": [
        {
          "data": {
            "image/png": "[encoded data removed]",
            "text/plain": [
              "<Figure size 576x576 with 1 Axes>"
            ]
          },
          "metadata": {
            "needs_background": "light"
          },
          "output_type": "display_data"
        }
      ],
      "source": [
        "#item B\n",
        "plt.figure(figsize=(8,8))\n",
        "plt.plot(w_s,pasos,'k',lw=3)\n",
        "plt.ylabel('Cantidad de iteraciones')\n",
        "plt.xlabel('Valor de w_s')\n",
        "plt.show()"
      ]
    },
    {
      "cell_type": "markdown",
      "metadata": {
        "id": "MIsIlDq6tJOX"
      },
      "source": [
        "* Para w entre ~0.3 y ~1.6\n",
        "* Para w entre ~0.9 y ~1.1 se observa que se obtuvieron las convergencias mas rapidas. "
      ]
    },
    {
      "cell_type": "markdown",
      "metadata": {
        "id": "8Gv3DGf7KDD_"
      },
      "source": [
        "# Ej 7"
      ]
    },
    {
      "cell_type": "code",
      "execution_count": null,
      "metadata": {
        "id": "mUCDXKaMJkC7"
      },
      "outputs": [],
      "source": [
        "def radioEspectralSOR(A,w):\n",
        "  \n",
        "  D = np.diag(np.diag(A))\n",
        "  L = np.tril(A,-1)\n",
        "  U = np.triu(A,1)\n",
        "  M = np.linalg.inv(D+w*L)@(-(w*U+(w-1)*D))\n",
        "\n",
        "  return(max(abs(np.linalg.eigvals(M))))"
      ]
    },
    {
      "cell_type": "markdown",
      "metadata": {
        "id": "w4sgPfnULmge"
      },
      "source": [
        "# Ej 8"
      ]
    },
    {
      "cell_type": "code",
      "execution_count": null,
      "metadata": {
        "id": "yBerlqxjKufa"
      },
      "outputs": [],
      "source": [
        "radios = np.zeros(len(w_s))\n",
        "\n",
        "for i in range(len(w_s)):\n",
        "  radios[i] = radioEspectralSOR(A,w_s[i])"
      ]
    },
    {
      "cell_type": "code",
      "execution_count": null,
      "metadata": {
        "colab": {
          "base_uri": "https://localhost:8080/",
          "height": 498
        },
        "id": "DOQjyQDLwWCE",
        "outputId": "c48850b7-84d1-4453-fcf3-109232adea6a"
      },
      "outputs": [
        {
          "data": {
            "image/png": "[encoded data removed]",
            "text/plain": [
              "<Figure size 576x576 with 1 Axes>"
            ]
          },
          "metadata": {
            "needs_background": "light"
          },
          "output_type": "display_data"
        }
      ],
      "source": [
        "#item B\n",
        "plt.figure(figsize=(8,8))\n",
        "plt.plot(w_s,radios,'k',lw=3)\n",
        "plt.ylabel('Radio espectral')\n",
        "plt.xlabel('Valor de w_s')\n",
        "plt.show()"
      ]
    },
    {
      "cell_type": "markdown",
      "metadata": {
        "id": "DEzBxSf_weAd"
      },
      "source": [
        "* Para los valores de w entre 0 ~1.8 el radio espectral es menor que 1\n",
        "* Para w~1.05 se obtuvo el radio espectral mas chico"
      ]
    },
    {
      "cell_type": "markdown",
      "metadata": {
        "id": "DMPX1aY6RQC3"
      },
      "source": [
        "# Ej 9"
      ]
    },
    {
      "cell_type": "code",
      "execution_count": null,
      "metadata": {
        "id": "ikRQLMZzQdar"
      },
      "outputs": [],
      "source": [
        "determinantes = np.zeros(len(w_s))\n",
        "\n",
        "for i in range(len(w_s)):\n",
        "  determinantes[i] = (1-w_s[i])**len(A)"
      ]
    },
    {
      "cell_type": "code",
      "execution_count": null,
      "metadata": {
        "colab": {
          "base_uri": "https://localhost:8080/",
          "height": 498
        },
        "id": "mSzKpvbESViW",
        "outputId": "b534161e-4e1f-4fc3-df62-610724d6a590"
      },
      "outputs": [
        {
          "data": {
            "image/png": "[encoded data removed]",
            "text/plain": [
              "<Figure size 576x576 with 1 Axes>"
            ]
          },
          "metadata": {
            "needs_background": "light"
          },
          "output_type": "display_data"
        }
      ],
      "source": [
        "plt.figure(figsize=(8,8))\n",
        "plt.plot(w_s,determinantes,'k',lw=3)\n",
        "plt.ylabel('Determinante de T')\n",
        "plt.xlabel('Valor de w_s')\n",
        "plt.show()"
      ]
    },
    {
      "cell_type": "markdown",
      "metadata": {
        "id": "uQJYKUF1xopV"
      },
      "source": [
        "* Para valores de w entre ~1.3 y 2 el determinante es menor que 1\n",
        "* Para w = 2 se obtuvo el determinante mas chico"
      ]
    }
  ],
  "metadata": {
    "colab": {
      "collapsed_sections": [],
      "name": "TP 2 - Método SOR.ipynb",
      "provenance": []
    },
    "kernelspec": {
      "display_name": "Python 3",
      "name": "python3"
    },
    "language_info": {
      "name": "python"
    }
  },
  "nbformat": 4,
  "nbformat_minor": 0
}
